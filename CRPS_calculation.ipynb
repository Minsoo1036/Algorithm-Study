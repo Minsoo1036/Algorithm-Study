{
 "cells": [
  {
   "cell_type": "code",
   "execution_count": 2,
   "id": "3515a2e1",
   "metadata": {},
   "outputs": [
    {
     "name": "stdout",
     "output_type": "stream",
     "text": [
      "Average CRPS for the test set: 1.1\n"
     ]
    }
   ],
   "source": [
    "import numpy as np\n",
    "import properscoring\n",
    "\n",
    "# Example test set\n",
    "observed_values = np.array([4.0, 1.0, 1.5, 5.5])  # Replace with your observed values\n",
    "predictive_distributions = np.array([\n",
    "    [2.0, 3.0, 4.0, 5.0, 6.0],  # Replace with predictive distribution for the first observation\n",
    "    [1.5, 2.5, 3.5, 4.5, 5.5],  # Replace with predictive distribution for the second observation\n",
    "    [3.0, 3.5, 4.0, 4.5, 5.0],  # Replace with predictive distribution for the third observation\n",
    "    [4.5, 5.0, 5.5, 6.0, 6.5]   # Replace with predictive distribution for the fourth observation\n",
    "])\n",
    "\n",
    "# Calculate CRPS for each observation\n",
    "crps_values = [properscoring.crps_ensemble(observed_value, pred_dist) \n",
    "               for observed_value, pred_dist in zip(observed_values, predictive_distributions)]\n",
    "\n",
    "# Calculate average CRPS for the entire test set\n",
    "average_crps = np.mean(crps_values)\n",
    "\n",
    "print(\"Average CRPS for the test set:\", average_crps)"
   ]
  },
  {
   "cell_type": "code",
   "execution_count": 3,
   "id": "4167fea5",
   "metadata": {},
   "outputs": [
    {
     "data": {
      "text/plain": [
       "[0.39999999999999997, 1.7, 2.1, 0.19999999999999998]"
      ]
     },
     "execution_count": 3,
     "metadata": {},
     "output_type": "execute_result"
    }
   ],
   "source": [
    "crps_values"
   ]
  },
  {
   "cell_type": "code",
   "execution_count": 3,
   "id": "66c41db4",
   "metadata": {},
   "outputs": [],
   "source": [
    "crps_values = [(observed_value, pred_dist)\n",
    "               for observed_value, pred_dist in zip(observed_values, predictive_distributions)]"
   ]
  },
  {
   "cell_type": "code",
   "execution_count": 4,
   "id": "644349ff",
   "metadata": {},
   "outputs": [
    {
     "data": {
      "text/plain": [
       "[(3.5, array([2., 3., 4., 5., 6.])),\n",
       " (2.0, array([1.5, 2.5, 3.5, 4.5, 5.5])),\n",
       " (4.5, array([3. , 3.5, 4. , 4.5, 5. ])),\n",
       " (5.5, array([4.5, 5. , 5.5, 6. , 6.5]))]"
      ]
     },
     "execution_count": 4,
     "metadata": {},
     "output_type": "execute_result"
    }
   ],
   "source": [
    "crps_values"
   ]
  }
 ],
 "metadata": {
  "kernelspec": {
   "display_name": "Python 3 (ipykernel)",
   "language": "python",
   "name": "python3"
  },
  "language_info": {
   "codemirror_mode": {
    "name": "ipython",
    "version": 3
   },
   "file_extension": ".py",
   "mimetype": "text/x-python",
   "name": "python",
   "nbconvert_exporter": "python",
   "pygments_lexer": "ipython3",
   "version": "3.9.12"
  },
  "toc": {
   "base_numbering": 1,
   "nav_menu": {},
   "number_sections": true,
   "sideBar": true,
   "skip_h1_title": false,
   "title_cell": "Table of Contents",
   "title_sidebar": "Contents",
   "toc_cell": false,
   "toc_position": {},
   "toc_section_display": true,
   "toc_window_display": false
  }
 },
 "nbformat": 4,
 "nbformat_minor": 5
}
